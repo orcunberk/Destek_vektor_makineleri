{
 "cells": [
  {
   "cell_type": "code",
   "execution_count": 2,
   "id": "2801c1a5",
   "metadata": {},
   "outputs": [],
   "source": [
    "# Gerekli paketler \n",
    "from sklearn.datasets import load_digits\n",
    "from sklearn.svm import SVC\n",
    "from sklearn.metrics import plot_confusion_matrix, classification_report\n",
    "from sklearn.model_selection import train_test_split\n",
    "import matplotlib.pyplot as plt "
   ]
  },
  {
   "cell_type": "code",
   "execution_count": 4,
   "id": "85aa42aa",
   "metadata": {},
   "outputs": [],
   "source": [
    "# Verinin yüklenmesi\n",
    "numaralar = load_digits()\n",
    "X = numaralar.data\n",
    "y = numaralar.target\n"
   ]
  },
  {
   "cell_type": "code",
   "execution_count": 5,
   "id": "d7b7ae0c",
   "metadata": {},
   "outputs": [
    {
     "data": {
      "text/plain": [
       "<matplotlib.image.AxesImage at 0x21d7ece08b0>"
      ]
     },
     "execution_count": 5,
     "metadata": {},
     "output_type": "execute_result"
    },
    {
     "data": {
      "image/png": "[encoded data removed]",
      "text/plain": [
       "<Figure size 432x288 with 1 Axes>"
      ]
     },
     "metadata": {
      "needs_background": "light"
     },
     "output_type": "display_data"
    }
   ],
   "source": [
    "# ornek gorseli \n",
    "fig = plt.figure()\n",
    "plt.imshow(numaralar.images[0], cmap = plt.cm.binary)"
   ]
  },
  {
   "cell_type": "code",
   "execution_count": 6,
   "id": "88de7bf6",
   "metadata": {},
   "outputs": [
    {
     "name": "stdout",
     "output_type": "stream",
     "text": [
      "dvm için sınıflandırma raporu:\n",
      "               precision    recall  f1-score   support\n",
      "\n",
      "           0       1.00      0.97      0.99        35\n",
      "           1       0.88      0.97      0.92        36\n",
      "           2       1.00      1.00      1.00        35\n",
      "           3       0.91      0.78      0.84        37\n",
      "           4       0.94      0.92      0.93        37\n",
      "           5       0.95      1.00      0.97        37\n",
      "           6       1.00      0.97      0.99        37\n",
      "           7       0.97      0.94      0.96        36\n",
      "           8       0.76      0.85      0.80        33\n",
      "           9       0.92      0.89      0.90        37\n",
      "\n",
      "    accuracy                           0.93       360\n",
      "   macro avg       0.93      0.93      0.93       360\n",
      "weighted avg       0.93      0.93      0.93       360\n",
      "\n",
      "Hata Matrisi:\n",
      " [[34  0  0  0  1  0  0  0  0  0]\n",
      " [ 0 35  0  0  0  0  0  0  0  1]\n",
      " [ 0  0 35  0  0  0  0  0  0  0]\n",
      " [ 0  0  0 29  0  2  0  0  6  0]\n",
      " [ 0  0  0  0 34  0  0  0  1  2]\n",
      " [ 0  0  0  0  0 37  0  0  0  0]\n",
      " [ 0  1  0  0  0  0 36  0  0  0]\n",
      " [ 0  0  0  0  1  0  0 34  1  0]\n",
      " [ 0  3  0  1  0  0  0  1 28  0]\n",
      " [ 0  1  0  2  0  0  0  0  1 33]]\n"
     ]
    },
    {
     "data": {
      "image/png": "[encoded data removed]",
      "text/plain": [
       "<Figure size 432x288 with 2 Axes>"
      ]
     },
     "metadata": {
      "needs_background": "light"
     },
     "output_type": "display_data"
    }
   ],
   "source": [
    "#model oluşturma \n",
    "dvm = SVC(C = 1, kernel = 'linear')\n",
    "# Egitim, test verisi yaratma \n",
    "X_egitim, X_test, y_egitim, y_test = train_test_split(X,y,\n",
    "                                                     test_size = 0.2,\n",
    "                                                     shuffle = False,\n",
    "                                                     random_state = 3)\n",
    "\n",
    "# model uydurulması \n",
    "dvm.fit(X_egitim, y_egitim)\n",
    "\n",
    "#Test verisinin tahminler \n",
    "tahmin_test = dvm.predict(X_test)\n",
    "\n",
    "\n",
    "print('dvm için sınıflandırma raporu:\\n',\n",
    "     classification_report(y_test, tahmin_test))\n",
    "\n",
    "gorsel = plot_confusion_matrix(dvm,\n",
    "                              X_test,\n",
    "                              y_test)\n",
    "\n",
    "gorsel.figure_.suptitle(\"Hata Matrisi\")\n",
    "\n",
    "print('Hata Matrisi:\\n', gorsel.confusion_matrix)"
   ]
  },
  {
   "cell_type": "code",
   "execution_count": null,
   "id": "2f5311c1",
   "metadata": {},
   "outputs": [],
   "source": []
  }
 ],
 "metadata": {
  "kernelspec": {
   "display_name": "Python 3 (ipykernel)",
   "language": "python",
   "name": "python3"
  },
  "language_info": {
   "codemirror_mode": {
    "name": "ipython",
    "version": 3
   },
   "file_extension": ".py",
   "mimetype": "text/x-python",
   "name": "python",
   "nbconvert_exporter": "python",
   "pygments_lexer": "ipython3",
   "version": "3.11.5"
  }
 },
 "nbformat": 4,
 "nbformat_minor": 5
}
